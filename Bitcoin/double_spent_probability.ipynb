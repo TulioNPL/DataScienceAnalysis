{
 "cells": [
  {
   "cell_type": "markdown",
   "metadata": {},
   "source": [
    "# On bitcoin transactions, attacks and probabilities\n",
    "### A simple analisys on the chances of losing coins to an attacker"
   ]
  },
  {
   "cell_type": "markdown",
   "metadata": {},
   "source": [
    "Imagine the following situation. You have a car for sale. A possible buyer offers with an amount of bitcoin and you, a person that understands that money decentralization is the future, accepts the offer. The buyer sends you the bitcoins, you see them in your wallet on the cellphone and goes home. The following day, you remember to store those coins on another wallet and when you open your phone wallet, the received bitcoins are gone.\n",
    "\n",
    "This is a possible situation, known as double spend. The ideia is that the attacker rewrite the blockchain, mining old block to remove the confirmed transaction made to you. But how likely is that to happen? In this text, we will explore the possibilities behind it in a simple way."
   ]
  },
  {
   "cell_type": "markdown",
   "metadata": {},
   "source": []
  }
 ],
 "metadata": {
  "language_info": {
   "name": "python"
  }
 },
 "nbformat": 4,
 "nbformat_minor": 2
}
