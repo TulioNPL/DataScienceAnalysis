{
 "cells": [
  {
   "cell_type": "markdown",
   "metadata": {},
   "source": [
    "# Bitcoin Price Analysis\n",
    "\n",
    "Here, my objective is to analyse the bitcoin daily price database obtained from: https://www.investing.com/crypto/bitcoin/historical-data\n",
    "\n",
    "Initially, the daily timeframe will be the only one taken into account. In the future, I intend to analyse other timeframes like weekly or monthly data."
   ]
  },
  {
   "cell_type": "markdown",
   "metadata": {},
   "source": [
    "### 1) Pre-processing with PySpark"
   ]
  },
  {
   "cell_type": "code",
   "execution_count": 1,
   "metadata": {},
   "outputs": [
    {
     "name": "stderr",
     "output_type": "stream",
     "text": [
      "24/05/21 22:12:17 WARN Utils: Your hostname, Valhalla-Zorin resolves to a loopback address: 127.0.1.1; using 192.168.100.36 instead (on interface enp4s0)\n",
      "24/05/21 22:12:17 WARN Utils: Set SPARK_LOCAL_IP if you need to bind to another address\n",
      "Setting default log level to \"WARN\".\n",
      "To adjust logging level use sc.setLogLevel(newLevel). For SparkR, use setLogLevel(newLevel).\n",
      "24/05/21 22:12:17 WARN NativeCodeLoader: Unable to load native-hadoop library for your platform... using builtin-java classes where applicable\n"
     ]
    }
   ],
   "source": [
    "# Importing pyspark and creating a new session\n",
    "from pyspark.sql import SparkSession\n",
    "\n",
    "spark = SparkSession.builder \\\n",
    "    .appName(\"btc\") \\\n",
    "    .getOrCreate()\n",
    "    "
   ]
  },
  {
   "cell_type": "code",
   "execution_count": 4,
   "metadata": {},
   "outputs": [
    {
     "data": {
      "text/plain": [
       "DataFrame[Date: string, Price: string, Open: string, High: string, Low: string, Vol.: string, Change %: string]"
      ]
     },
     "execution_count": 4,
     "metadata": {},
     "output_type": "execute_result"
    }
   ],
   "source": [
    "csv_file_path = \"Databases/BTC/btc_daily.csv\"\n",
    "data = spark.read.csv(csv_file_path, header=True)\n",
    "data"
   ]
  },
  {
   "cell_type": "code",
   "execution_count": 5,
   "metadata": {},
   "outputs": [
    {
     "name": "stdout",
     "output_type": "stream",
     "text": [
      "root\n",
      " |-- Date: string (nullable = true)\n",
      " |-- Price: string (nullable = true)\n",
      " |-- Open: string (nullable = true)\n",
      " |-- High: string (nullable = true)\n",
      " |-- Low: string (nullable = true)\n",
      " |-- Vol.: string (nullable = true)\n",
      " |-- Change %: string (nullable = true)\n",
      "\n"
     ]
    }
   ],
   "source": [
    "data.printSchema()"
   ]
  },
  {
   "cell_type": "code",
   "execution_count": 6,
   "metadata": {},
   "outputs": [
    {
     "name": "stdout",
     "output_type": "stream",
     "text": [
      "+----------+--------+--------+--------+--------+-------+--------+\n",
      "|      Date|   Price|    Open|    High|     Low|   Vol.|Change %|\n",
      "+----------+--------+--------+--------+--------+-------+--------+\n",
      "|05/21/2024|70,139.9|71,430.5|71,872.0|69,181.7|108.56K|  -1.80%|\n",
      "|05/20/2024|71,422.7|66,278.3|71,482.8|66,076.5|112.66K|   7.76%|\n",
      "|05/19/2024|66,279.1|66,919.0|67,662.5|65,937.3| 36.19K|  -0.95%|\n",
      "|05/18/2024|66,917.5|67,036.6|67,361.4|66,636.1| 29.68K|  -0.18%|\n",
      "|05/17/2024|67,036.8|65,231.1|67,420.7|65,121.7| 63.09K|   2.77%|\n",
      "|05/16/2024|65,231.0|66,219.6|66,643.9|64,623.3| 72.55K|  -1.50%|\n",
      "|05/15/2024|66,225.1|61,569.4|66,417.1|61,357.5|106.05K|   7.56%|\n",
      "|05/14/2024|61,569.4|62,936.8|63,102.6|61,156.9| 68.84K|  -2.17%|\n",
      "|05/13/2024|62,937.2|61,480.5|63,443.2|60,779.0| 70.55K|   2.37%|\n",
      "|05/12/2024|61,480.0|60,826.6|61,847.7|60,647.1| 27.40K|   1.07%|\n",
      "|05/11/2024|60,826.6|60,796.8|61,487.5|60,499.3| 27.50K|   0.05%|\n",
      "|05/10/2024|60,796.9|63,074.3|63,454.3|60,251.8| 79.33K|  -3.61%|\n",
      "|05/09/2024|63,075.0|61,207.3|63,413.3|60,671.4| 64.22K|   3.05%|\n",
      "|05/08/2024|61,207.5|62,304.9|62,997.4|60,894.2| 56.47K|  -1.78%|\n",
      "|05/07/2024|62,317.7|63,163.1|64,361.0|62,294.1| 59.74K|  -1.34%|\n",
      "|05/06/2024|63,163.1|64,005.8|65,448.8|62,730.7| 77.68K|  -1.32%|\n",
      "|05/05/2024|64,006.4|63,897.7|64,587.2|62,923.9| 40.51K|   0.18%|\n",
      "|05/04/2024|63,888.3|62,887.1|64,466.0|62,599.1| 53.03K|   1.61%|\n",
      "|05/03/2024|62,877.5|59,104.3|63,298.4|58,830.8|100.46K|   6.35%|\n",
      "|05/02/2024|59,121.3|58,334.9|59,548.0|56,989.8| 98.06K|   1.35%|\n",
      "+----------+--------+--------+--------+--------+-------+--------+\n",
      "only showing top 20 rows\n",
      "\n"
     ]
    }
   ],
   "source": [
    "data.show()"
   ]
  },
  {
   "cell_type": "code",
   "execution_count": 8,
   "metadata": {},
   "outputs": [],
   "source": [
    "# importing datatypes that will be used with this database\n",
    "from pyspark.sql.types import DoubleType\n",
    "from pyspark.sql.functions import col\n",
    "from pyspark.sql.functions import regexp_replace\n",
    "from pyspark.sql.functions import to_date"
   ]
  },
  {
   "cell_type": "code",
   "execution_count": 9,
   "metadata": {},
   "outputs": [],
   "source": [
    "# Convert \"Date\" column to DateType\n",
    "data = data.withColumn(\"Date\", to_date(data[\"Date\"], \"MM/dd/yyyy\"))\n",
    "\n",
    "# Convert other columns to DoubleType\n",
    "columns_to_convert = ['Price', 'Open', 'High', 'Low']\n",
    "for col_name in columns_to_convert:\n",
    "    data = data.withColumn(col_name, regexp_replace(col(col_name), \",\", \"\"))\n",
    "    data = data.withColumn(col_name, col(col_name).cast(DoubleType()))"
   ]
  },
  {
   "cell_type": "code",
   "execution_count": 167,
   "metadata": {},
   "outputs": [
    {
     "name": "stdout",
     "output_type": "stream",
     "text": [
      "+----------+-------+-------+-------+-------+-------+--------+\n",
      "|      Date|  Price|   Open|   High|    Low|   Vol.|Change %|\n",
      "+----------+-------+-------+-------+-------+-------+--------+\n",
      "|2024-03-24|67211.9|64036.5|67587.8|63812.9| 65.59K|   4.96%|\n",
      "|2024-03-23|64037.8|63785.6|65972.4|63074.9| 35.11K|   0.40%|\n",
      "|2024-03-22|63785.5|65501.5|66633.3|62328.3| 72.43K|  -2.62%|\n",
      "|2024-03-21|65503.8|67860.0|68161.7|64616.1| 75.26K|  -3.46%|\n",
      "|2024-03-20|67854.0|62046.8|68029.5|60850.9|133.53K|   9.35%|\n",
      "|2024-03-19|62050.0|67594.1|68099.6|61560.6|148.08K|  -8.20%|\n",
      "|2024-03-18|67594.1|68389.7|68920.1|66601.4| 78.07K|  -1.17%|\n",
      "|2024-03-17|68391.2|65314.2|68857.7|64605.5| 66.07K|   4.71%|\n",
      "|2024-03-16|65314.2|69456.5|70037.0|64971.0| 75.82K|  -5.97%|\n",
      "|2024-03-15|69463.7|71387.1|72398.1|65765.6|148.59K|  -2.69%|\n",
      "|2024-03-14|71387.5|73066.7|73740.9|68717.2|109.43K|  -2.30%|\n",
      "|2024-03-13|73066.3|71461.9|73623.5|71338.4| 77.18K|   2.23%|\n",
      "|2024-03-12|71470.2|72099.1|72916.7|68845.6|105.09K|  -0.87%|\n",
      "|2024-03-11|72099.1|68964.7|72771.5|67452.8|114.72K|   4.54%|\n",
      "|2024-03-10|68964.8|68360.7|69905.3|68165.0| 53.49K|   0.88%|\n",
      "|2024-03-09|68366.5|68178.5|68576.9|67923.9| 30.71K|   0.29%|\n",
      "|2024-03-08|68172.0|66854.4|69904.0|66170.7|112.67K|   1.97%|\n",
      "|2024-03-07|66855.3|66074.6|67985.5|65602.6| 77.47K|   1.17%|\n",
      "|2024-03-06|66080.4|63794.7|67604.9|62848.7|117.91K|   3.59%|\n",
      "|2024-03-05|63792.6|68273.1|69063.1|60138.2|207.60K|  -6.56%|\n",
      "+----------+-------+-------+-------+-------+-------+--------+\n",
      "only showing top 20 rows\n",
      "\n"
     ]
    }
   ],
   "source": [
    "data.show()"
   ]
  },
  {
   "cell_type": "code",
   "execution_count": 168,
   "metadata": {},
   "outputs": [
    {
     "name": "stdout",
     "output_type": "stream",
     "text": [
      "root\n",
      " |-- Date: date (nullable = true)\n",
      " |-- Price: double (nullable = true)\n",
      " |-- Open: double (nullable = true)\n",
      " |-- High: double (nullable = true)\n",
      " |-- Low: double (nullable = true)\n",
      "\n"
     ]
    }
   ],
   "source": [
    "data = data.drop(\"Vol.\", \"Change %\")\n",
    "data.printSchema()"
   ]
  },
  {
   "cell_type": "markdown",
   "metadata": {},
   "source": []
  },
  {
   "cell_type": "markdown",
   "metadata": {},
   "source": []
  }
 ],
 "metadata": {
  "kernelspec": {
   "display_name": "base",
   "language": "python",
   "name": "python3"
  },
  "language_info": {
   "codemirror_mode": {
    "name": "ipython",
    "version": 3
   },
   "file_extension": ".py",
   "mimetype": "text/x-python",
   "name": "python",
   "nbconvert_exporter": "python",
   "pygments_lexer": "ipython3",
   "version": "3.9.18"
  }
 },
 "nbformat": 4,
 "nbformat_minor": 2
}
