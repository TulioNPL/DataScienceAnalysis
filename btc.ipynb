{
 "cells": [
  {
   "cell_type": "markdown",
   "metadata": {},
   "source": [
    "# Bitcoin Price Analysis\n",
    "\n",
    "Here, my objective is to analyse the bitcoin daily price database obtained from: https://www.investing.com/crypto/bitcoin/historical-data\n",
    "\n",
    "Initially, the daily timeframe will be the only one taken into account. In the future, I intend to analyse other timeframes like weekly or monthly data."
   ]
  },
  {
   "cell_type": "markdown",
   "metadata": {},
   "source": [
    "### 1- Pre-processing with PySpark"
   ]
  },
  {
   "cell_type": "markdown",
   "metadata": {},
   "source": [
    "1.1- Creating session and reading data"
   ]
  },
  {
   "cell_type": "code",
   "execution_count": 36,
   "metadata": {},
   "outputs": [],
   "source": [
    "# Importing pyspark and creating a new session\n",
    "from pyspark.sql import SparkSession\n",
    "\n",
    "spark = SparkSession.builder \\\n",
    "    .appName(\"btc\") \\\n",
    "    .getOrCreate()\n",
    "    "
   ]
  },
  {
   "cell_type": "code",
   "execution_count": 37,
   "metadata": {},
   "outputs": [
    {
     "data": {
      "text/plain": [
       "DataFrame[Date: string, Price: string, Open: string, High: string, Low: string, Vol.: string, Change %: string]"
      ]
     },
     "execution_count": 37,
     "metadata": {},
     "output_type": "execute_result"
    }
   ],
   "source": [
    "csv_file_path = \"Databases/BTC/btc_daily.csv\"\n",
    "data = spark.read.csv(csv_file_path, header=True)\n",
    "data"
   ]
  },
  {
   "cell_type": "code",
   "execution_count": 38,
   "metadata": {},
   "outputs": [
    {
     "name": "stdout",
     "output_type": "stream",
     "text": [
      "root\n",
      " |-- Date: string (nullable = true)\n",
      " |-- Price: string (nullable = true)\n",
      " |-- Open: string (nullable = true)\n",
      " |-- High: string (nullable = true)\n",
      " |-- Low: string (nullable = true)\n",
      " |-- Vol.: string (nullable = true)\n",
      " |-- Change %: string (nullable = true)\n",
      "\n"
     ]
    }
   ],
   "source": [
    "data.printSchema()"
   ]
  },
  {
   "cell_type": "code",
   "execution_count": 39,
   "metadata": {},
   "outputs": [
    {
     "name": "stdout",
     "output_type": "stream",
     "text": [
      "+----------+--------+--------+--------+--------+-------+--------+\n",
      "|      Date|   Price|    Open|    High|     Low|   Vol.|Change %|\n",
      "+----------+--------+--------+--------+--------+-------+--------+\n",
      "|05/21/2024|70,139.9|71,430.5|71,872.0|69,181.7|108.56K|  -1.80%|\n",
      "|05/20/2024|71,422.7|66,278.3|71,482.8|66,076.5|112.66K|   7.76%|\n",
      "|05/19/2024|66,279.1|66,919.0|67,662.5|65,937.3| 36.19K|  -0.95%|\n",
      "|05/18/2024|66,917.5|67,036.6|67,361.4|66,636.1| 29.68K|  -0.18%|\n",
      "|05/17/2024|67,036.8|65,231.1|67,420.7|65,121.7| 63.09K|   2.77%|\n",
      "|05/16/2024|65,231.0|66,219.6|66,643.9|64,623.3| 72.55K|  -1.50%|\n",
      "|05/15/2024|66,225.1|61,569.4|66,417.1|61,357.5|106.05K|   7.56%|\n",
      "|05/14/2024|61,569.4|62,936.8|63,102.6|61,156.9| 68.84K|  -2.17%|\n",
      "|05/13/2024|62,937.2|61,480.5|63,443.2|60,779.0| 70.55K|   2.37%|\n",
      "|05/12/2024|61,480.0|60,826.6|61,847.7|60,647.1| 27.40K|   1.07%|\n",
      "|05/11/2024|60,826.6|60,796.8|61,487.5|60,499.3| 27.50K|   0.05%|\n",
      "|05/10/2024|60,796.9|63,074.3|63,454.3|60,251.8| 79.33K|  -3.61%|\n",
      "|05/09/2024|63,075.0|61,207.3|63,413.3|60,671.4| 64.22K|   3.05%|\n",
      "|05/08/2024|61,207.5|62,304.9|62,997.4|60,894.2| 56.47K|  -1.78%|\n",
      "|05/07/2024|62,317.7|63,163.1|64,361.0|62,294.1| 59.74K|  -1.34%|\n",
      "|05/06/2024|63,163.1|64,005.8|65,448.8|62,730.7| 77.68K|  -1.32%|\n",
      "|05/05/2024|64,006.4|63,897.7|64,587.2|62,923.9| 40.51K|   0.18%|\n",
      "|05/04/2024|63,888.3|62,887.1|64,466.0|62,599.1| 53.03K|   1.61%|\n",
      "|05/03/2024|62,877.5|59,104.3|63,298.4|58,830.8|100.46K|   6.35%|\n",
      "|05/02/2024|59,121.3|58,334.9|59,548.0|56,989.8| 98.06K|   1.35%|\n",
      "+----------+--------+--------+--------+--------+-------+--------+\n",
      "only showing top 20 rows\n",
      "\n"
     ]
    }
   ],
   "source": [
    "data.show()"
   ]
  },
  {
   "cell_type": "markdown",
   "metadata": {},
   "source": [
    "1.2- Converting columns to their respective types"
   ]
  },
  {
   "cell_type": "code",
   "execution_count": 40,
   "metadata": {},
   "outputs": [],
   "source": [
    "# importing datatypes that will be used with this database\n",
    "from pyspark.sql.types import DoubleType\n",
    "from pyspark.sql.functions import col\n",
    "from pyspark.sql.functions import regexp_replace\n",
    "from pyspark.sql.functions import to_date"
   ]
  },
  {
   "cell_type": "code",
   "execution_count": 41,
   "metadata": {},
   "outputs": [],
   "source": [
    "data = data.withColumnRenamed('Vol.','Vol')\n",
    "data = data.withColumnRenamed('Change %','Change')"
   ]
  },
  {
   "cell_type": "code",
   "execution_count": 42,
   "metadata": {},
   "outputs": [
    {
     "data": {
      "text/plain": [
       "['Price', 'Open', 'High', 'Low', 'Vol', 'Change']"
      ]
     },
     "execution_count": 42,
     "metadata": {},
     "output_type": "execute_result"
    }
   ],
   "source": [
    "column_names = data.columns\n",
    "column_names.remove('Date')\n",
    "column_names"
   ]
  },
  {
   "cell_type": "code",
   "execution_count": 43,
   "metadata": {},
   "outputs": [],
   "source": [
    "# Removing symbols from 'Vol' and 'Change'\n",
    "symbols_to_remove = ['K', '%']\n",
    "\n",
    "for col_name in column_names:\n",
    "    for symbol in symbols_to_remove:\n",
    "        data = data.withColumn(col_name, regexp_replace(col(col_name), symbol, \"\"))\n",
    "\n",
    "# Convert columns to DoubleType\n",
    "for col_name in column_names:\n",
    "    data = data.withColumn(col_name, regexp_replace(col(col_name), \",\", \"\"))\n",
    "    data = data.withColumn(col_name, col(col_name).cast(DoubleType()))\n",
    "\n",
    "# Convert \"Date\" column to DateType\n",
    "data = data.withColumn(\"Date\", to_date(data[\"Date\"], \"MM/dd/yyyy\"))"
   ]
  },
  {
   "cell_type": "code",
   "execution_count": 44,
   "metadata": {},
   "outputs": [
    {
     "name": "stdout",
     "output_type": "stream",
     "text": [
      "root\n",
      " |-- Date: date (nullable = true)\n",
      " |-- Price: double (nullable = true)\n",
      " |-- Open: double (nullable = true)\n",
      " |-- High: double (nullable = true)\n",
      " |-- Low: double (nullable = true)\n",
      " |-- Vol: double (nullable = true)\n",
      " |-- Change: double (nullable = true)\n",
      "\n"
     ]
    }
   ],
   "source": [
    "data.printSchema()"
   ]
  },
  {
   "cell_type": "code",
   "execution_count": 45,
   "metadata": {},
   "outputs": [
    {
     "name": "stdout",
     "output_type": "stream",
     "text": [
      "+----------+-------+-------+-------+-------+------+------+\n",
      "|      Date|  Price|   Open|   High|    Low|   Vol|Change|\n",
      "+----------+-------+-------+-------+-------+------+------+\n",
      "|2024-04-21|64940.2|64942.1|65680.6|64267.5| 42.02| -0.03|\n",
      "|2024-04-22|66829.3|64940.1|67208.0|64527.5|  72.3|  2.91|\n",
      "|2024-04-23|66415.0|66829.5|67180.0|65848.3| 52.42| -0.62|\n",
      "|2024-04-24|64285.7|66414.9|67060.5|63606.9| 77.83| -3.21|\n",
      "|2024-04-25|64497.1|64287.1|65247.5|62889.2| 80.77|  0.33|\n",
      "|2024-04-26|63766.4|64497.1|64771.3|63354.9|  61.6| -1.13|\n",
      "|2024-04-27|63456.8|63765.8|63916.7|62507.7| 45.34| -0.49|\n",
      "|2024-04-28|63109.7|63457.9|64346.1|62827.8| 36.65| -0.55|\n",
      "|2024-04-29|63860.1|63113.7|64193.1|61837.2| 67.26|  1.19|\n",
      "|2024-04-30|60666.6|63852.4|64700.2|59228.7|121.04|  -5.0|\n",
      "|2024-05-01|58331.2|60665.0|60827.5|56643.5|171.55| -3.85|\n",
      "|2024-05-02|59121.3|58334.9|59548.0|56989.8| 98.06|  1.35|\n",
      "|2024-05-03|62877.5|59104.3|63298.4|58830.8|100.46|  6.35|\n",
      "|2024-05-04|63888.3|62887.1|64466.0|62599.1| 53.03|  1.61|\n",
      "|2024-05-05|64006.4|63897.7|64587.2|62923.9| 40.51|  0.18|\n",
      "|2024-05-06|63163.1|64005.8|65448.8|62730.7| 77.68| -1.32|\n",
      "|2024-05-07|62317.7|63163.1|64361.0|62294.1| 59.74| -1.34|\n",
      "|2024-05-08|61207.5|62304.9|62997.4|60894.2| 56.47| -1.78|\n",
      "|2024-05-09|63075.0|61207.3|63413.3|60671.4| 64.22|  3.05|\n",
      "|2024-05-10|60796.9|63074.3|63454.3|60251.8| 79.33| -3.61|\n",
      "+----------+-------+-------+-------+-------+------+------+\n",
      "only showing top 20 rows\n",
      "\n"
     ]
    }
   ],
   "source": [
    "data = data.orderBy(data['Date'])\n",
    "data.show()"
   ]
  },
  {
   "cell_type": "markdown",
   "metadata": {},
   "source": [
    "### 2- Analysing data"
   ]
  },
  {
   "cell_type": "markdown",
   "metadata": {},
   "source": [
    "2.1- Ploting a 2024 price chart"
   ]
  },
  {
   "cell_type": "code",
   "execution_count": 46,
   "metadata": {},
   "outputs": [],
   "source": [
    "import matplotlib.pyplot as plt\n",
    "import mplfinance as mpf\n",
    "import pandas as pd"
   ]
  },
  {
   "cell_type": "code",
   "execution_count": 47,
   "metadata": {},
   "outputs": [
    {
     "data": {
      "image/png": "[encoded data removed]",
      "text/plain": [
       "<Figure size 800x575 with 2 Axes>"
      ]
     },
     "metadata": {},
     "output_type": "display_data"
    }
   ],
   "source": [
    "# Filtering current year data\n",
    "current_year_data = data.where(data['Date'] > '2024-01-01')\n",
    "\n",
    "# Convert PySpark DataFrame to Pandas DataFrame\n",
    "pandas_df = current_year_data.toPandas()\n",
    "pandas_df.rename(columns={'Price':'Close'}, inplace=True)\n",
    "pandas_df['Date'] = pd.to_datetime(pandas_df['Date'])\n",
    "pandas_df.set_index('Date', inplace=True)\n",
    "pandas_df.columns\n",
    "mpf.plot(pandas_df, type='candle')"
   ]
  },
  {
   "cell_type": "code",
   "execution_count": null,
   "metadata": {},
   "outputs": [],
   "source": []
  }
 ],
 "metadata": {
  "kernelspec": {
   "display_name": "base",
   "language": "python",
   "name": "python3"
  },
  "language_info": {
   "codemirror_mode": {
    "name": "ipython",
    "version": 3
   },
   "file_extension": ".py",
   "mimetype": "text/x-python",
   "name": "python",
   "nbconvert_exporter": "python",
   "pygments_lexer": "ipython3",
   "version": "3.9.18"
  }
 },
 "nbformat": 4,
 "nbformat_minor": 2
}
